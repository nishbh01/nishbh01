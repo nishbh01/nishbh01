{
  "cells": [
    {
      "cell_type": "markdown",
      "metadata": {
        "id": "view-in-github",
        "colab_type": "text"
      },
      "source": [
        "<a href=\"https://colab.research.google.com/github/nishbh01/nishbh01/blob/main/data_301_FinalProjectCode_GroupTwo.ipynb\" target=\"_parent\"><img src=\"https://colab.research.google.com/assets/colab-badge.svg\" alt=\"Open In Colab\"/></a>"
      ]
    },
    {
      "cell_type": "markdown",
      "id": "e1a2e924",
      "metadata": {
        "id": "e1a2e924"
      },
      "source": [
        "## World Happiness Report - Final Project"
      ]
    },
    {
      "cell_type": "code",
      "execution_count": 1,
      "id": "c5ca49d6",
      "metadata": {
        "id": "c5ca49d6"
      },
      "outputs": [],
      "source": [
        "import pandas as pd\n",
        "import numpy as np\n",
        "from plotnine import *\n",
        "\n",
        "%matplotlib inline\n",
        "\n",
        "import seaborn as sb\n",
        "import matplotlib.pyplot as plt\n",
        "import plotly.graph_objects as go\n",
        "import plotly.express as px\n",
        "\n",
        "from pandas.api.types import CategoricalDtype"
      ]
    },
    {
      "cell_type": "markdown",
      "id": "030cdb82",
      "metadata": {
        "id": "030cdb82"
      },
      "source": [
        "**Reading and Writing Files**"
      ]
    },
    {
      "cell_type": "markdown",
      "id": "fe119714",
      "metadata": {
        "id": "fe119714"
      },
      "source": [
        "For the purpose of this project, since we only have one file i.e., WorldHappinessReport.csv, we'll be importing it by utilizing the pd.read_csv function."
      ]
    },
    {
      "cell_type": "code",
      "execution_count": 2,
      "id": "60ef0468",
      "metadata": {
        "colab": {
          "base_uri": "https://localhost:8080/",
          "height": 341
        },
        "id": "60ef0468",
        "outputId": "ce372f10-fdd3-4c62-8a49-33779d1d5470"
      },
      "outputs": [
        {
          "output_type": "error",
          "ename": "FileNotFoundError",
          "evalue": "ignored",
          "traceback": [
            "\u001b[0;31m---------------------------------------------------------------------------\u001b[0m",
            "\u001b[0;31mFileNotFoundError\u001b[0m                         Traceback (most recent call last)",
            "\u001b[0;32m<ipython-input-2-547c7569debd>\u001b[0m in \u001b[0;36m<cell line: 1>\u001b[0;34m()\u001b[0m\n\u001b[0;32m----> 1\u001b[0;31m \u001b[0mWHRdf\u001b[0m \u001b[0;34m=\u001b[0m \u001b[0mpd\u001b[0m\u001b[0;34m.\u001b[0m\u001b[0mread_csv\u001b[0m\u001b[0;34m(\u001b[0m\u001b[0;34m'WorldHappinessReport.csv'\u001b[0m\u001b[0;34m)\u001b[0m\u001b[0;34m\u001b[0m\u001b[0;34m\u001b[0m\u001b[0m\n\u001b[0m\u001b[1;32m      2\u001b[0m \u001b[0mWHRdf\u001b[0m\u001b[0;34m.\u001b[0m\u001b[0mhead\u001b[0m\u001b[0;34m(\u001b[0m\u001b[0;34m)\u001b[0m\u001b[0;34m\u001b[0m\u001b[0;34m\u001b[0m\u001b[0m\n",
            "\u001b[0;32m/usr/local/lib/python3.9/dist-packages/pandas/util/_decorators.py\u001b[0m in \u001b[0;36mwrapper\u001b[0;34m(*args, **kwargs)\u001b[0m\n\u001b[1;32m    209\u001b[0m                 \u001b[0;32melse\u001b[0m\u001b[0;34m:\u001b[0m\u001b[0;34m\u001b[0m\u001b[0;34m\u001b[0m\u001b[0m\n\u001b[1;32m    210\u001b[0m                     \u001b[0mkwargs\u001b[0m\u001b[0;34m[\u001b[0m\u001b[0mnew_arg_name\u001b[0m\u001b[0;34m]\u001b[0m \u001b[0;34m=\u001b[0m \u001b[0mnew_arg_value\u001b[0m\u001b[0;34m\u001b[0m\u001b[0;34m\u001b[0m\u001b[0m\n\u001b[0;32m--> 211\u001b[0;31m             \u001b[0;32mreturn\u001b[0m \u001b[0mfunc\u001b[0m\u001b[0;34m(\u001b[0m\u001b[0;34m*\u001b[0m\u001b[0margs\u001b[0m\u001b[0;34m,\u001b[0m \u001b[0;34m**\u001b[0m\u001b[0mkwargs\u001b[0m\u001b[0;34m)\u001b[0m\u001b[0;34m\u001b[0m\u001b[0;34m\u001b[0m\u001b[0m\n\u001b[0m\u001b[1;32m    212\u001b[0m \u001b[0;34m\u001b[0m\u001b[0m\n\u001b[1;32m    213\u001b[0m         \u001b[0;32mreturn\u001b[0m \u001b[0mcast\u001b[0m\u001b[0;34m(\u001b[0m\u001b[0mF\u001b[0m\u001b[0;34m,\u001b[0m \u001b[0mwrapper\u001b[0m\u001b[0;34m)\u001b[0m\u001b[0;34m\u001b[0m\u001b[0;34m\u001b[0m\u001b[0m\n",
            "\u001b[0;32m/usr/local/lib/python3.9/dist-packages/pandas/util/_decorators.py\u001b[0m in \u001b[0;36mwrapper\u001b[0;34m(*args, **kwargs)\u001b[0m\n\u001b[1;32m    329\u001b[0m                     \u001b[0mstacklevel\u001b[0m\u001b[0;34m=\u001b[0m\u001b[0mfind_stack_level\u001b[0m\u001b[0;34m(\u001b[0m\u001b[0;34m)\u001b[0m\u001b[0;34m,\u001b[0m\u001b[0;34m\u001b[0m\u001b[0;34m\u001b[0m\u001b[0m\n\u001b[1;32m    330\u001b[0m                 )\n\u001b[0;32m--> 331\u001b[0;31m             \u001b[0;32mreturn\u001b[0m \u001b[0mfunc\u001b[0m\u001b[0;34m(\u001b[0m\u001b[0;34m*\u001b[0m\u001b[0margs\u001b[0m\u001b[0;34m,\u001b[0m \u001b[0;34m**\u001b[0m\u001b[0mkwargs\u001b[0m\u001b[0;34m)\u001b[0m\u001b[0;34m\u001b[0m\u001b[0;34m\u001b[0m\u001b[0m\n\u001b[0m\u001b[1;32m    332\u001b[0m \u001b[0;34m\u001b[0m\u001b[0m\n\u001b[1;32m    333\u001b[0m         \u001b[0;31m# error: \"Callable[[VarArg(Any), KwArg(Any)], Any]\" has no\u001b[0m\u001b[0;34m\u001b[0m\u001b[0;34m\u001b[0m\u001b[0m\n",
            "\u001b[0;32m/usr/local/lib/python3.9/dist-packages/pandas/io/parsers/readers.py\u001b[0m in \u001b[0;36mread_csv\u001b[0;34m(filepath_or_buffer, sep, delimiter, header, names, index_col, usecols, squeeze, prefix, mangle_dupe_cols, dtype, engine, converters, true_values, false_values, skipinitialspace, skiprows, skipfooter, nrows, na_values, keep_default_na, na_filter, verbose, skip_blank_lines, parse_dates, infer_datetime_format, keep_date_col, date_parser, dayfirst, cache_dates, iterator, chunksize, compression, thousands, decimal, lineterminator, quotechar, quoting, doublequote, escapechar, comment, encoding, encoding_errors, dialect, error_bad_lines, warn_bad_lines, on_bad_lines, delim_whitespace, low_memory, memory_map, float_precision, storage_options)\u001b[0m\n\u001b[1;32m    948\u001b[0m     \u001b[0mkwds\u001b[0m\u001b[0;34m.\u001b[0m\u001b[0mupdate\u001b[0m\u001b[0;34m(\u001b[0m\u001b[0mkwds_defaults\u001b[0m\u001b[0;34m)\u001b[0m\u001b[0;34m\u001b[0m\u001b[0;34m\u001b[0m\u001b[0m\n\u001b[1;32m    949\u001b[0m \u001b[0;34m\u001b[0m\u001b[0m\n\u001b[0;32m--> 950\u001b[0;31m     \u001b[0;32mreturn\u001b[0m \u001b[0m_read\u001b[0m\u001b[0;34m(\u001b[0m\u001b[0mfilepath_or_buffer\u001b[0m\u001b[0;34m,\u001b[0m \u001b[0mkwds\u001b[0m\u001b[0;34m)\u001b[0m\u001b[0;34m\u001b[0m\u001b[0;34m\u001b[0m\u001b[0m\n\u001b[0m\u001b[1;32m    951\u001b[0m \u001b[0;34m\u001b[0m\u001b[0m\n\u001b[1;32m    952\u001b[0m \u001b[0;34m\u001b[0m\u001b[0m\n",
            "\u001b[0;32m/usr/local/lib/python3.9/dist-packages/pandas/io/parsers/readers.py\u001b[0m in \u001b[0;36m_read\u001b[0;34m(filepath_or_buffer, kwds)\u001b[0m\n\u001b[1;32m    603\u001b[0m \u001b[0;34m\u001b[0m\u001b[0m\n\u001b[1;32m    604\u001b[0m     \u001b[0;31m# Create the parser.\u001b[0m\u001b[0;34m\u001b[0m\u001b[0;34m\u001b[0m\u001b[0m\n\u001b[0;32m--> 605\u001b[0;31m     \u001b[0mparser\u001b[0m \u001b[0;34m=\u001b[0m \u001b[0mTextFileReader\u001b[0m\u001b[0;34m(\u001b[0m\u001b[0mfilepath_or_buffer\u001b[0m\u001b[0;34m,\u001b[0m \u001b[0;34m**\u001b[0m\u001b[0mkwds\u001b[0m\u001b[0;34m)\u001b[0m\u001b[0;34m\u001b[0m\u001b[0;34m\u001b[0m\u001b[0m\n\u001b[0m\u001b[1;32m    606\u001b[0m \u001b[0;34m\u001b[0m\u001b[0m\n\u001b[1;32m    607\u001b[0m     \u001b[0;32mif\u001b[0m \u001b[0mchunksize\u001b[0m \u001b[0;32mor\u001b[0m \u001b[0miterator\u001b[0m\u001b[0;34m:\u001b[0m\u001b[0;34m\u001b[0m\u001b[0;34m\u001b[0m\u001b[0m\n",
            "\u001b[0;32m/usr/local/lib/python3.9/dist-packages/pandas/io/parsers/readers.py\u001b[0m in \u001b[0;36m__init__\u001b[0;34m(self, f, engine, **kwds)\u001b[0m\n\u001b[1;32m   1440\u001b[0m \u001b[0;34m\u001b[0m\u001b[0m\n\u001b[1;32m   1441\u001b[0m         \u001b[0mself\u001b[0m\u001b[0;34m.\u001b[0m\u001b[0mhandles\u001b[0m\u001b[0;34m:\u001b[0m \u001b[0mIOHandles\u001b[0m \u001b[0;34m|\u001b[0m \u001b[0;32mNone\u001b[0m \u001b[0;34m=\u001b[0m \u001b[0;32mNone\u001b[0m\u001b[0;34m\u001b[0m\u001b[0;34m\u001b[0m\u001b[0m\n\u001b[0;32m-> 1442\u001b[0;31m         \u001b[0mself\u001b[0m\u001b[0;34m.\u001b[0m\u001b[0m_engine\u001b[0m \u001b[0;34m=\u001b[0m \u001b[0mself\u001b[0m\u001b[0;34m.\u001b[0m\u001b[0m_make_engine\u001b[0m\u001b[0;34m(\u001b[0m\u001b[0mf\u001b[0m\u001b[0;34m,\u001b[0m \u001b[0mself\u001b[0m\u001b[0;34m.\u001b[0m\u001b[0mengine\u001b[0m\u001b[0;34m)\u001b[0m\u001b[0;34m\u001b[0m\u001b[0;34m\u001b[0m\u001b[0m\n\u001b[0m\u001b[1;32m   1443\u001b[0m \u001b[0;34m\u001b[0m\u001b[0m\n\u001b[1;32m   1444\u001b[0m     \u001b[0;32mdef\u001b[0m \u001b[0mclose\u001b[0m\u001b[0;34m(\u001b[0m\u001b[0mself\u001b[0m\u001b[0;34m)\u001b[0m \u001b[0;34m->\u001b[0m \u001b[0;32mNone\u001b[0m\u001b[0;34m:\u001b[0m\u001b[0;34m\u001b[0m\u001b[0;34m\u001b[0m\u001b[0m\n",
            "\u001b[0;32m/usr/local/lib/python3.9/dist-packages/pandas/io/parsers/readers.py\u001b[0m in \u001b[0;36m_make_engine\u001b[0;34m(self, f, engine)\u001b[0m\n\u001b[1;32m   1733\u001b[0m                 \u001b[0;32mif\u001b[0m \u001b[0;34m\"b\"\u001b[0m \u001b[0;32mnot\u001b[0m \u001b[0;32min\u001b[0m \u001b[0mmode\u001b[0m\u001b[0;34m:\u001b[0m\u001b[0;34m\u001b[0m\u001b[0;34m\u001b[0m\u001b[0m\n\u001b[1;32m   1734\u001b[0m                     \u001b[0mmode\u001b[0m \u001b[0;34m+=\u001b[0m \u001b[0;34m\"b\"\u001b[0m\u001b[0;34m\u001b[0m\u001b[0;34m\u001b[0m\u001b[0m\n\u001b[0;32m-> 1735\u001b[0;31m             self.handles = get_handle(\n\u001b[0m\u001b[1;32m   1736\u001b[0m                 \u001b[0mf\u001b[0m\u001b[0;34m,\u001b[0m\u001b[0;34m\u001b[0m\u001b[0;34m\u001b[0m\u001b[0m\n\u001b[1;32m   1737\u001b[0m                 \u001b[0mmode\u001b[0m\u001b[0;34m,\u001b[0m\u001b[0;34m\u001b[0m\u001b[0;34m\u001b[0m\u001b[0m\n",
            "\u001b[0;32m/usr/local/lib/python3.9/dist-packages/pandas/io/common.py\u001b[0m in \u001b[0;36mget_handle\u001b[0;34m(path_or_buf, mode, encoding, compression, memory_map, is_text, errors, storage_options)\u001b[0m\n\u001b[1;32m    854\u001b[0m         \u001b[0;32mif\u001b[0m \u001b[0mioargs\u001b[0m\u001b[0;34m.\u001b[0m\u001b[0mencoding\u001b[0m \u001b[0;32mand\u001b[0m \u001b[0;34m\"b\"\u001b[0m \u001b[0;32mnot\u001b[0m \u001b[0;32min\u001b[0m \u001b[0mioargs\u001b[0m\u001b[0;34m.\u001b[0m\u001b[0mmode\u001b[0m\u001b[0;34m:\u001b[0m\u001b[0;34m\u001b[0m\u001b[0;34m\u001b[0m\u001b[0m\n\u001b[1;32m    855\u001b[0m             \u001b[0;31m# Encoding\u001b[0m\u001b[0;34m\u001b[0m\u001b[0;34m\u001b[0m\u001b[0m\n\u001b[0;32m--> 856\u001b[0;31m             handle = open(\n\u001b[0m\u001b[1;32m    857\u001b[0m                 \u001b[0mhandle\u001b[0m\u001b[0;34m,\u001b[0m\u001b[0;34m\u001b[0m\u001b[0;34m\u001b[0m\u001b[0m\n\u001b[1;32m    858\u001b[0m                 \u001b[0mioargs\u001b[0m\u001b[0;34m.\u001b[0m\u001b[0mmode\u001b[0m\u001b[0;34m,\u001b[0m\u001b[0;34m\u001b[0m\u001b[0;34m\u001b[0m\u001b[0m\n",
            "\u001b[0;31mFileNotFoundError\u001b[0m: [Errno 2] No such file or directory: 'WorldHappinessReport.csv'"
          ]
        }
      ],
      "source": [
        "WHRdf = pd.read_csv('WorldHappinessReport.csv')\n",
        "WHRdf.head()"
      ]
    },
    {
      "cell_type": "markdown",
      "id": "0bedf6db",
      "metadata": {
        "id": "0bedf6db"
      },
      "source": [
        "The above dataframe imports the data from the WorldHappinessReport.csv, however, upon reading information on what each column represents, we've decided to change some of the column names as they would depict the data in those columns more accurately and would help us in our analysis. Additionally, we will be converting all the column names to camelCase or snake_case as the initial data consists of column names with spaces - thus making it harder for us to reference the column.  "
      ]
    },
    {
      "cell_type": "code",
      "execution_count": null,
      "id": "ed6cc4c2",
      "metadata": {
        "colab": {
          "base_uri": "https://localhost:8080/",
          "height": 353
        },
        "id": "ed6cc4c2",
        "outputId": "44958324-b232-4b95-b4a1-ebd41cf59a24"
      },
      "outputs": [
        {
          "output_type": "execute_result",
          "data": {
            "text/plain": [
              "   countryName      region  year  happinessScore  logGdpPerCapita  \\\n",
              "0  Afghanistan  South Asia  2008        3.723590         7.350416   \n",
              "1  Afghanistan  South Asia  2009        4.401778         7.508646   \n",
              "2  Afghanistan  South Asia  2010        4.758381         7.613900   \n",
              "3  Afghanistan  South Asia  2011        3.831719         7.581259   \n",
              "4  Afghanistan  South Asia  2012        3.782938         7.660506   \n",
              "\n",
              "   socialSupport  LifeExpAtBirth  lifeChoicesFreedom  generosity  \\\n",
              "0       0.450662       50.500000            0.718114    0.167652   \n",
              "1       0.552308       50.799999            0.678896    0.190809   \n",
              "2       0.539075       51.099998            0.600127    0.121316   \n",
              "3       0.521104       51.400002            0.495901    0.163571   \n",
              "4       0.520637       51.700001            0.530935    0.237588   \n",
              "\n",
              "   corruptionPreception  positiveAffect  negativeAffect  confInNatGov  \n",
              "0              0.881686        0.414297        0.258195      0.612072  \n",
              "1              0.850035        0.481421        0.237092      0.611545  \n",
              "2              0.706766        0.516907        0.275324      0.299357  \n",
              "3              0.731109        0.479835        0.267175      0.307386  \n",
              "4              0.775620        0.613513        0.267919      0.435440  "
            ],
            "text/html": [
              "\n",
              "  <div id=\"df-483ac23d-a987-4032-a628-e206abf6ece7\">\n",
              "    <div class=\"colab-df-container\">\n",
              "      <div>\n",
              "<style scoped>\n",
              "    .dataframe tbody tr th:only-of-type {\n",
              "        vertical-align: middle;\n",
              "    }\n",
              "\n",
              "    .dataframe tbody tr th {\n",
              "        vertical-align: top;\n",
              "    }\n",
              "\n",
              "    .dataframe thead th {\n",
              "        text-align: right;\n",
              "    }\n",
              "</style>\n",
              "<table border=\"1\" class=\"dataframe\">\n",
              "  <thead>\n",
              "    <tr style=\"text-align: right;\">\n",
              "      <th></th>\n",
              "      <th>countryName</th>\n",
              "      <th>region</th>\n",
              "      <th>year</th>\n",
              "      <th>happinessScore</th>\n",
              "      <th>logGdpPerCapita</th>\n",
              "      <th>socialSupport</th>\n",
              "      <th>LifeExpAtBirth</th>\n",
              "      <th>lifeChoicesFreedom</th>\n",
              "      <th>generosity</th>\n",
              "      <th>corruptionPreception</th>\n",
              "      <th>positiveAffect</th>\n",
              "      <th>negativeAffect</th>\n",
              "      <th>confInNatGov</th>\n",
              "    </tr>\n",
              "  </thead>\n",
              "  <tbody>\n",
              "    <tr>\n",
              "      <th>0</th>\n",
              "      <td>Afghanistan</td>\n",
              "      <td>South Asia</td>\n",
              "      <td>2008</td>\n",
              "      <td>3.723590</td>\n",
              "      <td>7.350416</td>\n",
              "      <td>0.450662</td>\n",
              "      <td>50.500000</td>\n",
              "      <td>0.718114</td>\n",
              "      <td>0.167652</td>\n",
              "      <td>0.881686</td>\n",
              "      <td>0.414297</td>\n",
              "      <td>0.258195</td>\n",
              "      <td>0.612072</td>\n",
              "    </tr>\n",
              "    <tr>\n",
              "      <th>1</th>\n",
              "      <td>Afghanistan</td>\n",
              "      <td>South Asia</td>\n",
              "      <td>2009</td>\n",
              "      <td>4.401778</td>\n",
              "      <td>7.508646</td>\n",
              "      <td>0.552308</td>\n",
              "      <td>50.799999</td>\n",
              "      <td>0.678896</td>\n",
              "      <td>0.190809</td>\n",
              "      <td>0.850035</td>\n",
              "      <td>0.481421</td>\n",
              "      <td>0.237092</td>\n",
              "      <td>0.611545</td>\n",
              "    </tr>\n",
              "    <tr>\n",
              "      <th>2</th>\n",
              "      <td>Afghanistan</td>\n",
              "      <td>South Asia</td>\n",
              "      <td>2010</td>\n",
              "      <td>4.758381</td>\n",
              "      <td>7.613900</td>\n",
              "      <td>0.539075</td>\n",
              "      <td>51.099998</td>\n",
              "      <td>0.600127</td>\n",
              "      <td>0.121316</td>\n",
              "      <td>0.706766</td>\n",
              "      <td>0.516907</td>\n",
              "      <td>0.275324</td>\n",
              "      <td>0.299357</td>\n",
              "    </tr>\n",
              "    <tr>\n",
              "      <th>3</th>\n",
              "      <td>Afghanistan</td>\n",
              "      <td>South Asia</td>\n",
              "      <td>2011</td>\n",
              "      <td>3.831719</td>\n",
              "      <td>7.581259</td>\n",
              "      <td>0.521104</td>\n",
              "      <td>51.400002</td>\n",
              "      <td>0.495901</td>\n",
              "      <td>0.163571</td>\n",
              "      <td>0.731109</td>\n",
              "      <td>0.479835</td>\n",
              "      <td>0.267175</td>\n",
              "      <td>0.307386</td>\n",
              "    </tr>\n",
              "    <tr>\n",
              "      <th>4</th>\n",
              "      <td>Afghanistan</td>\n",
              "      <td>South Asia</td>\n",
              "      <td>2012</td>\n",
              "      <td>3.782938</td>\n",
              "      <td>7.660506</td>\n",
              "      <td>0.520637</td>\n",
              "      <td>51.700001</td>\n",
              "      <td>0.530935</td>\n",
              "      <td>0.237588</td>\n",
              "      <td>0.775620</td>\n",
              "      <td>0.613513</td>\n",
              "      <td>0.267919</td>\n",
              "      <td>0.435440</td>\n",
              "    </tr>\n",
              "  </tbody>\n",
              "</table>\n",
              "</div>\n",
              "      <button class=\"colab-df-convert\" onclick=\"convertToInteractive('df-483ac23d-a987-4032-a628-e206abf6ece7')\"\n",
              "              title=\"Convert this dataframe to an interactive table.\"\n",
              "              style=\"display:none;\">\n",
              "        \n",
              "  <svg xmlns=\"http://www.w3.org/2000/svg\" height=\"24px\"viewBox=\"0 0 24 24\"\n",
              "       width=\"24px\">\n",
              "    <path d=\"M0 0h24v24H0V0z\" fill=\"none\"/>\n",
              "    <path d=\"M18.56 5.44l.94 2.06.94-2.06 2.06-.94-2.06-.94-.94-2.06-.94 2.06-2.06.94zm-11 1L8.5 8.5l.94-2.06 2.06-.94-2.06-.94L8.5 2.5l-.94 2.06-2.06.94zm10 10l.94 2.06.94-2.06 2.06-.94-2.06-.94-.94-2.06-.94 2.06-2.06.94z\"/><path d=\"M17.41 7.96l-1.37-1.37c-.4-.4-.92-.59-1.43-.59-.52 0-1.04.2-1.43.59L10.3 9.45l-7.72 7.72c-.78.78-.78 2.05 0 2.83L4 21.41c.39.39.9.59 1.41.59.51 0 1.02-.2 1.41-.59l7.78-7.78 2.81-2.81c.8-.78.8-2.07 0-2.86zM5.41 20L4 18.59l7.72-7.72 1.47 1.35L5.41 20z\"/>\n",
              "  </svg>\n",
              "      </button>\n",
              "      \n",
              "  <style>\n",
              "    .colab-df-container {\n",
              "      display:flex;\n",
              "      flex-wrap:wrap;\n",
              "      gap: 12px;\n",
              "    }\n",
              "\n",
              "    .colab-df-convert {\n",
              "      background-color: #E8F0FE;\n",
              "      border: none;\n",
              "      border-radius: 50%;\n",
              "      cursor: pointer;\n",
              "      display: none;\n",
              "      fill: #1967D2;\n",
              "      height: 32px;\n",
              "      padding: 0 0 0 0;\n",
              "      width: 32px;\n",
              "    }\n",
              "\n",
              "    .colab-df-convert:hover {\n",
              "      background-color: #E2EBFA;\n",
              "      box-shadow: 0px 1px 2px rgba(60, 64, 67, 0.3), 0px 1px 3px 1px rgba(60, 64, 67, 0.15);\n",
              "      fill: #174EA6;\n",
              "    }\n",
              "\n",
              "    [theme=dark] .colab-df-convert {\n",
              "      background-color: #3B4455;\n",
              "      fill: #D2E3FC;\n",
              "    }\n",
              "\n",
              "    [theme=dark] .colab-df-convert:hover {\n",
              "      background-color: #434B5C;\n",
              "      box-shadow: 0px 1px 3px 1px rgba(0, 0, 0, 0.15);\n",
              "      filter: drop-shadow(0px 1px 2px rgba(0, 0, 0, 0.3));\n",
              "      fill: #FFFFFF;\n",
              "    }\n",
              "  </style>\n",
              "\n",
              "      <script>\n",
              "        const buttonEl =\n",
              "          document.querySelector('#df-483ac23d-a987-4032-a628-e206abf6ece7 button.colab-df-convert');\n",
              "        buttonEl.style.display =\n",
              "          google.colab.kernel.accessAllowed ? 'block' : 'none';\n",
              "\n",
              "        async function convertToInteractive(key) {\n",
              "          const element = document.querySelector('#df-483ac23d-a987-4032-a628-e206abf6ece7');\n",
              "          const dataTable =\n",
              "            await google.colab.kernel.invokeFunction('convertToInteractive',\n",
              "                                                     [key], {});\n",
              "          if (!dataTable) return;\n",
              "\n",
              "          const docLinkHtml = 'Like what you see? Visit the ' +\n",
              "            '<a target=\"_blank\" href=https://colab.research.google.com/notebooks/data_table.ipynb>data table notebook</a>'\n",
              "            + ' to learn more about interactive tables.';\n",
              "          element.innerHTML = '';\n",
              "          dataTable['output_type'] = 'display_data';\n",
              "          await google.colab.output.renderOutput(dataTable, element);\n",
              "          const docLink = document.createElement('div');\n",
              "          docLink.innerHTML = docLinkHtml;\n",
              "          element.appendChild(docLink);\n",
              "        }\n",
              "      </script>\n",
              "    </div>\n",
              "  </div>\n",
              "  "
            ]
          },
          "metadata": {},
          "execution_count": 4
        }
      ],
      "source": [
        "# Renaming the columns\n",
        "dfModified = WHRdf.rename(columns={\n",
        "    'Country Name': 'countryName',\n",
        "    'Regional Indicator': 'region',\n",
        "    'Year': 'year',\n",
        "    'Life Ladder': 'happinessScore',\n",
        "    'Log GDP Per Capita': 'logGdpPerCapita',\n",
        "    'Social Support': 'socialSupport',\n",
        "    'Healthy Life Expectancy At Birth': 'LifeExpAtBirth',\n",
        "    'Freedom To Make Life Choices': 'lifeChoicesFreedom',\n",
        "    'Generosity': 'generosity',\n",
        "    'Perceptions Of Corruption': 'corruptionPreception',\n",
        "    'Positive Affect': 'positiveAffect',\n",
        "    'Negative Affect': 'negativeAffect',\n",
        "    'Confidence In National Government': 'confInNatGov'\n",
        "})\n",
        "dfModified.head()"
      ]
    },
    {
      "cell_type": "markdown",
      "id": "491ef830",
      "metadata": {
        "id": "491ef830"
      },
      "source": [
        "**Data Description**"
      ]
    },
    {
      "cell_type": "code",
      "execution_count": null,
      "id": "8e8847c1",
      "metadata": {
        "colab": {
          "base_uri": "https://localhost:8080/"
        },
        "id": "8e8847c1",
        "outputId": "998be94c-5013-4a0f-85e4-677172511446"
      },
      "outputs": [
        {
          "output_type": "execute_result",
          "data": {
            "text/plain": [
              "2"
            ]
          },
          "metadata": {},
          "execution_count": 5
        }
      ],
      "source": [
        "dfModified.ndim"
      ]
    },
    {
      "cell_type": "code",
      "execution_count": null,
      "id": "ce41964a",
      "metadata": {
        "colab": {
          "base_uri": "https://localhost:8080/"
        },
        "id": "ce41964a",
        "outputId": "d93f0dc7-8eba-4113-e951-a43d68cfe18d"
      },
      "outputs": [
        {
          "output_type": "execute_result",
          "data": {
            "text/plain": [
              "(2199, 13)"
            ]
          },
          "metadata": {},
          "execution_count": 6
        }
      ],
      "source": [
        "dfModified.shape"
      ]
    },
    {
      "cell_type": "markdown",
      "id": "0d78906c",
      "metadata": {
        "id": "0d78906c"
      },
      "source": [
        "By utilizing the .ndim and .shape functions, we can see that the dataframe is 2 dimensional and consists of 2199 rows/observations and 13 columns/variables."
      ]
    },
    {
      "cell_type": "code",
      "execution_count": null,
      "id": "5f7f8aec",
      "metadata": {
        "colab": {
          "base_uri": "https://localhost:8080/"
        },
        "id": "5f7f8aec",
        "outputId": "e2f88093-e622-428a-c50d-625d164b86f0"
      },
      "outputs": [
        {
          "output_type": "stream",
          "name": "stdout",
          "text": [
            "<class 'pandas.core.frame.DataFrame'>\n",
            "RangeIndex: 2199 entries, 0 to 2198\n",
            "Data columns (total 13 columns):\n",
            " #   Column                Non-Null Count  Dtype  \n",
            "---  ------                --------------  -----  \n",
            " 0   countryName           2199 non-null   object \n",
            " 1   region                2087 non-null   object \n",
            " 2   year                  2199 non-null   int64  \n",
            " 3   happinessScore        2199 non-null   float64\n",
            " 4   logGdpPerCapita       2179 non-null   float64\n",
            " 5   socialSupport         2186 non-null   float64\n",
            " 6   LifeExpAtBirth        2145 non-null   float64\n",
            " 7   lifeChoicesFreedom    2166 non-null   float64\n",
            " 8   generosity            2126 non-null   float64\n",
            " 9   corruptionPreception  2083 non-null   float64\n",
            " 10  positiveAffect        2175 non-null   float64\n",
            " 11  negativeAffect        2183 non-null   float64\n",
            " 12  confInNatGov          1838 non-null   float64\n",
            "dtypes: float64(10), int64(1), object(2)\n",
            "memory usage: 223.5+ KB\n"
          ]
        }
      ],
      "source": [
        "dfModified.info()"
      ]
    },
    {
      "cell_type": "markdown",
      "id": "c02e678a",
      "metadata": {
        "id": "c02e678a"
      },
      "source": [
        "Write about what you found through the .info function"
      ]
    },
    {
      "cell_type": "code",
      "execution_count": null,
      "id": "669ef92e",
      "metadata": {
        "colab": {
          "base_uri": "https://localhost:8080/",
          "height": 361
        },
        "id": "669ef92e",
        "outputId": "49885033-583d-42f3-dcb2-c0451afcb4e4"
      },
      "outputs": [
        {
          "output_type": "execute_result",
          "data": {
            "text/plain": [
              "              year  happinessScore  logGdpPerCapita  socialSupport  \\\n",
              "count  2199.000000     2199.000000      2179.000000    2186.000000   \n",
              "mean   2014.161437        5.479226         9.389766       0.810679   \n",
              "std       4.718736        1.125529         1.153387       0.120952   \n",
              "min    2005.000000        1.281271         5.526723       0.228217   \n",
              "25%    2010.000000        4.646750         8.499764       0.746609   \n",
              "50%    2014.000000        5.432437         9.498955       0.835535   \n",
              "75%    2018.000000        6.309460        10.373216       0.904792   \n",
              "max    2022.000000        8.018934        11.663788       0.987343   \n",
              "\n",
              "       LifeExpAtBirth  lifeChoicesFreedom   generosity  corruptionPreception  \\\n",
              "count     2145.000000         2166.000000  2126.000000           2083.000000   \n",
              "mean        63.294583            0.747858     0.000096              0.745195   \n",
              "std          6.901104            0.140150     0.161083              0.185837   \n",
              "min          6.720000            0.257534    -0.337527              0.035198   \n",
              "25%         59.119999            0.656528    -0.112116              0.688139   \n",
              "50%         65.050003            0.769821    -0.022671              0.799654   \n",
              "75%         68.500000            0.859382     0.092070              0.868827   \n",
              "max         74.474998            0.985178     0.702708              0.983276   \n",
              "\n",
              "       positiveAffect  negativeAffect  confInNatGov  \n",
              "count     2175.000000     2183.000000   1838.000000  \n",
              "mean         0.652143        0.271501      0.483999  \n",
              "std          0.105922        0.086875      0.193071  \n",
              "min          0.178886        0.082737      0.068769  \n",
              "25%          0.571684        0.207660      0.332549  \n",
              "50%          0.663063        0.260671      0.467140  \n",
              "75%          0.737936        0.322894      0.618846  \n",
              "max          0.883586        0.704590      0.993604  "
            ],
            "text/html": [
              "\n",
              "  <div id=\"df-675515a2-87e4-4d1c-8be7-f9edd3dc174a\">\n",
              "    <div class=\"colab-df-container\">\n",
              "      <div>\n",
              "<style scoped>\n",
              "    .dataframe tbody tr th:only-of-type {\n",
              "        vertical-align: middle;\n",
              "    }\n",
              "\n",
              "    .dataframe tbody tr th {\n",
              "        vertical-align: top;\n",
              "    }\n",
              "\n",
              "    .dataframe thead th {\n",
              "        text-align: right;\n",
              "    }\n",
              "</style>\n",
              "<table border=\"1\" class=\"dataframe\">\n",
              "  <thead>\n",
              "    <tr style=\"text-align: right;\">\n",
              "      <th></th>\n",
              "      <th>year</th>\n",
              "      <th>happinessScore</th>\n",
              "      <th>logGdpPerCapita</th>\n",
              "      <th>socialSupport</th>\n",
              "      <th>LifeExpAtBirth</th>\n",
              "      <th>lifeChoicesFreedom</th>\n",
              "      <th>generosity</th>\n",
              "      <th>corruptionPreception</th>\n",
              "      <th>positiveAffect</th>\n",
              "      <th>negativeAffect</th>\n",
              "      <th>confInNatGov</th>\n",
              "    </tr>\n",
              "  </thead>\n",
              "  <tbody>\n",
              "    <tr>\n",
              "      <th>count</th>\n",
              "      <td>2199.000000</td>\n",
              "      <td>2199.000000</td>\n",
              "      <td>2179.000000</td>\n",
              "      <td>2186.000000</td>\n",
              "      <td>2145.000000</td>\n",
              "      <td>2166.000000</td>\n",
              "      <td>2126.000000</td>\n",
              "      <td>2083.000000</td>\n",
              "      <td>2175.000000</td>\n",
              "      <td>2183.000000</td>\n",
              "      <td>1838.000000</td>\n",
              "    </tr>\n",
              "    <tr>\n",
              "      <th>mean</th>\n",
              "      <td>2014.161437</td>\n",
              "      <td>5.479226</td>\n",
              "      <td>9.389766</td>\n",
              "      <td>0.810679</td>\n",
              "      <td>63.294583</td>\n",
              "      <td>0.747858</td>\n",
              "      <td>0.000096</td>\n",
              "      <td>0.745195</td>\n",
              "      <td>0.652143</td>\n",
              "      <td>0.271501</td>\n",
              "      <td>0.483999</td>\n",
              "    </tr>\n",
              "    <tr>\n",
              "      <th>std</th>\n",
              "      <td>4.718736</td>\n",
              "      <td>1.125529</td>\n",
              "      <td>1.153387</td>\n",
              "      <td>0.120952</td>\n",
              "      <td>6.901104</td>\n",
              "      <td>0.140150</td>\n",
              "      <td>0.161083</td>\n",
              "      <td>0.185837</td>\n",
              "      <td>0.105922</td>\n",
              "      <td>0.086875</td>\n",
              "      <td>0.193071</td>\n",
              "    </tr>\n",
              "    <tr>\n",
              "      <th>min</th>\n",
              "      <td>2005.000000</td>\n",
              "      <td>1.281271</td>\n",
              "      <td>5.526723</td>\n",
              "      <td>0.228217</td>\n",
              "      <td>6.720000</td>\n",
              "      <td>0.257534</td>\n",
              "      <td>-0.337527</td>\n",
              "      <td>0.035198</td>\n",
              "      <td>0.178886</td>\n",
              "      <td>0.082737</td>\n",
              "      <td>0.068769</td>\n",
              "    </tr>\n",
              "    <tr>\n",
              "      <th>25%</th>\n",
              "      <td>2010.000000</td>\n",
              "      <td>4.646750</td>\n",
              "      <td>8.499764</td>\n",
              "      <td>0.746609</td>\n",
              "      <td>59.119999</td>\n",
              "      <td>0.656528</td>\n",
              "      <td>-0.112116</td>\n",
              "      <td>0.688139</td>\n",
              "      <td>0.571684</td>\n",
              "      <td>0.207660</td>\n",
              "      <td>0.332549</td>\n",
              "    </tr>\n",
              "    <tr>\n",
              "      <th>50%</th>\n",
              "      <td>2014.000000</td>\n",
              "      <td>5.432437</td>\n",
              "      <td>9.498955</td>\n",
              "      <td>0.835535</td>\n",
              "      <td>65.050003</td>\n",
              "      <td>0.769821</td>\n",
              "      <td>-0.022671</td>\n",
              "      <td>0.799654</td>\n",
              "      <td>0.663063</td>\n",
              "      <td>0.260671</td>\n",
              "      <td>0.467140</td>\n",
              "    </tr>\n",
              "    <tr>\n",
              "      <th>75%</th>\n",
              "      <td>2018.000000</td>\n",
              "      <td>6.309460</td>\n",
              "      <td>10.373216</td>\n",
              "      <td>0.904792</td>\n",
              "      <td>68.500000</td>\n",
              "      <td>0.859382</td>\n",
              "      <td>0.092070</td>\n",
              "      <td>0.868827</td>\n",
              "      <td>0.737936</td>\n",
              "      <td>0.322894</td>\n",
              "      <td>0.618846</td>\n",
              "    </tr>\n",
              "    <tr>\n",
              "      <th>max</th>\n",
              "      <td>2022.000000</td>\n",
              "      <td>8.018934</td>\n",
              "      <td>11.663788</td>\n",
              "      <td>0.987343</td>\n",
              "      <td>74.474998</td>\n",
              "      <td>0.985178</td>\n",
              "      <td>0.702708</td>\n",
              "      <td>0.983276</td>\n",
              "      <td>0.883586</td>\n",
              "      <td>0.704590</td>\n",
              "      <td>0.993604</td>\n",
              "    </tr>\n",
              "  </tbody>\n",
              "</table>\n",
              "</div>\n",
              "      <button class=\"colab-df-convert\" onclick=\"convertToInteractive('df-675515a2-87e4-4d1c-8be7-f9edd3dc174a')\"\n",
              "              title=\"Convert this dataframe to an interactive table.\"\n",
              "              style=\"display:none;\">\n",
              "        \n",
              "  <svg xmlns=\"http://www.w3.org/2000/svg\" height=\"24px\"viewBox=\"0 0 24 24\"\n",
              "       width=\"24px\">\n",
              "    <path d=\"M0 0h24v24H0V0z\" fill=\"none\"/>\n",
              "    <path d=\"M18.56 5.44l.94 2.06.94-2.06 2.06-.94-2.06-.94-.94-2.06-.94 2.06-2.06.94zm-11 1L8.5 8.5l.94-2.06 2.06-.94-2.06-.94L8.5 2.5l-.94 2.06-2.06.94zm10 10l.94 2.06.94-2.06 2.06-.94-2.06-.94-.94-2.06-.94 2.06-2.06.94z\"/><path d=\"M17.41 7.96l-1.37-1.37c-.4-.4-.92-.59-1.43-.59-.52 0-1.04.2-1.43.59L10.3 9.45l-7.72 7.72c-.78.78-.78 2.05 0 2.83L4 21.41c.39.39.9.59 1.41.59.51 0 1.02-.2 1.41-.59l7.78-7.78 2.81-2.81c.8-.78.8-2.07 0-2.86zM5.41 20L4 18.59l7.72-7.72 1.47 1.35L5.41 20z\"/>\n",
              "  </svg>\n",
              "      </button>\n",
              "      \n",
              "  <style>\n",
              "    .colab-df-container {\n",
              "      display:flex;\n",
              "      flex-wrap:wrap;\n",
              "      gap: 12px;\n",
              "    }\n",
              "\n",
              "    .colab-df-convert {\n",
              "      background-color: #E8F0FE;\n",
              "      border: none;\n",
              "      border-radius: 50%;\n",
              "      cursor: pointer;\n",
              "      display: none;\n",
              "      fill: #1967D2;\n",
              "      height: 32px;\n",
              "      padding: 0 0 0 0;\n",
              "      width: 32px;\n",
              "    }\n",
              "\n",
              "    .colab-df-convert:hover {\n",
              "      background-color: #E2EBFA;\n",
              "      box-shadow: 0px 1px 2px rgba(60, 64, 67, 0.3), 0px 1px 3px 1px rgba(60, 64, 67, 0.15);\n",
              "      fill: #174EA6;\n",
              "    }\n",
              "\n",
              "    [theme=dark] .colab-df-convert {\n",
              "      background-color: #3B4455;\n",
              "      fill: #D2E3FC;\n",
              "    }\n",
              "\n",
              "    [theme=dark] .colab-df-convert:hover {\n",
              "      background-color: #434B5C;\n",
              "      box-shadow: 0px 1px 3px 1px rgba(0, 0, 0, 0.15);\n",
              "      filter: drop-shadow(0px 1px 2px rgba(0, 0, 0, 0.3));\n",
              "      fill: #FFFFFF;\n",
              "    }\n",
              "  </style>\n",
              "\n",
              "      <script>\n",
              "        const buttonEl =\n",
              "          document.querySelector('#df-675515a2-87e4-4d1c-8be7-f9edd3dc174a button.colab-df-convert');\n",
              "        buttonEl.style.display =\n",
              "          google.colab.kernel.accessAllowed ? 'block' : 'none';\n",
              "\n",
              "        async function convertToInteractive(key) {\n",
              "          const element = document.querySelector('#df-675515a2-87e4-4d1c-8be7-f9edd3dc174a');\n",
              "          const dataTable =\n",
              "            await google.colab.kernel.invokeFunction('convertToInteractive',\n",
              "                                                     [key], {});\n",
              "          if (!dataTable) return;\n",
              "\n",
              "          const docLinkHtml = 'Like what you see? Visit the ' +\n",
              "            '<a target=\"_blank\" href=https://colab.research.google.com/notebooks/data_table.ipynb>data table notebook</a>'\n",
              "            + ' to learn more about interactive tables.';\n",
              "          element.innerHTML = '';\n",
              "          dataTable['output_type'] = 'display_data';\n",
              "          await google.colab.output.renderOutput(dataTable, element);\n",
              "          const docLink = document.createElement('div');\n",
              "          docLink.innerHTML = docLinkHtml;\n",
              "          element.appendChild(docLink);\n",
              "        }\n",
              "      </script>\n",
              "    </div>\n",
              "  </div>\n",
              "  "
            ]
          },
          "metadata": {},
          "execution_count": 8
        }
      ],
      "source": [
        "dfModified.describe()"
      ]
    },
    {
      "cell_type": "markdown",
      "id": "28b98199",
      "metadata": {
        "id": "28b98199"
      },
      "source": [
        "Write about what you found using the .describe function"
      ]
    },
    {
      "cell_type": "markdown",
      "id": "960ac062",
      "metadata": {
        "id": "960ac062"
      },
      "source": [
        "**Identifying and Handling Missing Values**"
      ]
    },
    {
      "cell_type": "code",
      "execution_count": null,
      "id": "cf638a65",
      "metadata": {
        "colab": {
          "base_uri": "https://localhost:8080/"
        },
        "id": "cf638a65",
        "outputId": "15df4488-b61d-40d1-a611-fc610a356410"
      },
      "outputs": [
        {
          "output_type": "execute_result",
          "data": {
            "text/plain": [
              "countryName               0\n",
              "region                  112\n",
              "year                      0\n",
              "happinessScore            0\n",
              "logGdpPerCapita          20\n",
              "socialSupport            13\n",
              "LifeExpAtBirth           54\n",
              "lifeChoicesFreedom       33\n",
              "generosity               73\n",
              "corruptionPreception    116\n",
              "positiveAffect           24\n",
              "negativeAffect           16\n",
              "confInNatGov            361\n",
              "dtype: int64"
            ]
          },
          "metadata": {},
          "execution_count": 9
        }
      ],
      "source": [
        "# getting the no. of missing values for each variable in the dataset\n",
        "dfModified.isna().sum()"
      ]
    },
    {
      "cell_type": "code",
      "execution_count": null,
      "id": "4fa29230",
      "metadata": {
        "colab": {
          "base_uri": "https://localhost:8080/"
        },
        "id": "4fa29230",
        "outputId": "c19e96af-1be3-415e-8a41-2617e2f36c7f"
      },
      "outputs": [
        {
          "output_type": "execute_result",
          "data": {
            "text/plain": [
              "822"
            ]
          },
          "metadata": {},
          "execution_count": 10
        }
      ],
      "source": [
        "# getting the total no. of missing values in the dataset\n",
        "dfModified.isna().sum().sum()"
      ]
    },
    {
      "cell_type": "markdown",
      "id": "9b011574",
      "metadata": {
        "id": "9b011574"
      },
      "source": [
        "Write about the missing values"
      ]
    },
    {
      "cell_type": "markdown",
      "source": [
        "*Dealing With Categorical/Qualitative Missing Values*"
      ],
      "metadata": {
        "id": "kaxTkm2sMvfL"
      },
      "id": "kaxTkm2sMvfL"
    },
    {
      "cell_type": "markdown",
      "source": [
        "The only categorical variable that consists of missing values is the 'region' column. This column has 112 missing values in total, however, upon looking filtering the region column by the missing values and outputting the unique values of the countryName column, we can see that there are only 21 countries whose region is missing from the data. Therefore, instead of imputing these missing values with the 'mode' which might replace them with the incorrect region, we are going to impute these missing vlues manually by utilizing the continent listing from worldpopulationreview.org (https://worldpopulationreview.com/country-rankings/list-of-countries-by-continent)"
      ],
      "metadata": {
        "id": "YRCmnoQJM5z4"
      },
      "id": "YRCmnoQJM5z4"
    },
    {
      "cell_type": "code",
      "source": [
        "# Filtering the missing values in region column\n",
        "missing_regions = dfModified.loc[dfModified['region'].isna()]\n",
        "\n",
        "# printing the unique values in the countryName column\n",
        "unique_countries = missing_regions['countryName'].unique()\n",
        "unique_countries"
      ],
      "metadata": {
        "colab": {
          "base_uri": "https://localhost:8080/"
        },
        "id": "ZT9qVo4kOlLl",
        "outputId": "e6c41d89-df19-4fd5-a7b0-63200c773a90"
      },
      "id": "ZT9qVo4kOlLl",
      "execution_count": null,
      "outputs": [
        {
          "output_type": "execute_result",
          "data": {
            "text/plain": [
              "array(['Angola', 'Belize', 'Bhutan', 'Central African Republic',\n",
              "       'Congo (Kinshasa)', 'Cuba', 'Czechia', 'Djibouti', 'Eswatini',\n",
              "       'Guyana', 'Oman', 'Qatar', 'Somalia', 'Somaliland region',\n",
              "       'South Sudan', 'State of Palestine', 'Sudan', 'Suriname', 'Syria',\n",
              "       'Trinidad and Tobago', 'Turkiye'], dtype=object)"
            ]
          },
          "metadata": {},
          "execution_count": 11
        }
      ]
    },
    {
      "cell_type": "markdown",
      "source": [
        "The total no. of countries with missing regional values are:"
      ],
      "metadata": {
        "id": "VcqomTsWPLTw"
      },
      "id": "VcqomTsWPLTw"
    },
    {
      "cell_type": "code",
      "source": [
        "len(unique_countries)"
      ],
      "metadata": {
        "colab": {
          "base_uri": "https://localhost:8080/"
        },
        "id": "gpaFbWofPJ4L",
        "outputId": "ae28899e-b29a-41ae-cf8d-06f7092982c3"
      },
      "id": "gpaFbWofPJ4L",
      "execution_count": null,
      "outputs": [
        {
          "output_type": "execute_result",
          "data": {
            "text/plain": [
              "21"
            ]
          },
          "metadata": {},
          "execution_count": 12
        }
      ]
    },
    {
      "cell_type": "code",
      "source": [
        "# Manually imputing missing values\n",
        "dfModified.loc[dfModified['countryName'] == 'Angola', 'region'] = 'Africa'\n",
        "dfModified.loc[dfModified['countryName'] == 'Belize', 'region'] = 'North America'\n",
        "dfModified.loc[dfModified['countryName'] == 'Bhutan', 'region'] = 'Asia'\n",
        "dfModified.loc[dfModified['countryName'] == 'Central African Republic', 'region'] = 'Africa'\n",
        "dfModified.loc[dfModified['countryName'] == 'Congo (Kinshasa)', 'region'] = 'Africa'\n",
        "dfModified.loc[dfModified['countryName'] == 'Cuba', 'region'] = 'North America'\n",
        "dfModified.loc[dfModified['countryName'] == 'Czechia', 'region'] = 'Europe'\n",
        "dfModified.loc[dfModified['countryName'] == 'Djibouti', 'region'] = 'Africa'\n",
        "dfModified.loc[dfModified['countryName'] == 'Eswatini', 'region'] = 'Africa'\n",
        "dfModified.loc[dfModified['countryName'] == 'Guyana', 'region'] = 'South America'\n",
        "dfModified.loc[dfModified['countryName'] == 'Oman', 'region'] = 'Asia'\n",
        "dfModified.loc[dfModified['countryName'] == 'Qatar', 'region'] = 'Asia'\n",
        "dfModified.loc[dfModified['countryName'] == 'Somalia', 'region'] = 'Africa'\n",
        "dfModified.loc[dfModified['countryName'] == 'Somaliland region', 'region'] = 'Africa'\n",
        "dfModified.loc[dfModified['countryName'] == 'South Sudan', 'region'] = 'Africa'\n",
        "dfModified.loc[dfModified['countryName'] == 'State of Palestine', 'region'] = 'Asia'\n",
        "dfModified.loc[dfModified['countryName'] == 'Sudan', 'region'] = 'Africa'\n",
        "dfModified.loc[dfModified['countryName'] == 'Suriname', 'region'] = 'South America'\n",
        "dfModified.loc[dfModified['countryName'] == 'Syria', 'region'] = 'Asia'\n",
        "dfModified.loc[dfModified['countryName'] == 'Trinidad and Tobago', 'region'] = 'North America'\n",
        "dfModified.loc[dfModified['countryName'] == 'Turkiye', 'region'] = 'Europe'\n",
        "\n",
        "dfModified.head()\n"
      ],
      "metadata": {
        "colab": {
          "base_uri": "https://localhost:8080/",
          "height": 353
        },
        "id": "LdmwInBdQeFn",
        "outputId": "566193ec-b6a4-4336-abc6-7fefde7db6ec"
      },
      "id": "LdmwInBdQeFn",
      "execution_count": null,
      "outputs": [
        {
          "output_type": "execute_result",
          "data": {
            "text/plain": [
              "   countryName      region  year  happinessScore  logGdpPerCapita  \\\n",
              "0  Afghanistan  South Asia  2008        3.723590         7.350416   \n",
              "1  Afghanistan  South Asia  2009        4.401778         7.508646   \n",
              "2  Afghanistan  South Asia  2010        4.758381         7.613900   \n",
              "3  Afghanistan  South Asia  2011        3.831719         7.581259   \n",
              "4  Afghanistan  South Asia  2012        3.782938         7.660506   \n",
              "\n",
              "   socialSupport  LifeExpAtBirth  lifeChoicesFreedom  generosity  \\\n",
              "0       0.450662       50.500000            0.718114    0.167652   \n",
              "1       0.552308       50.799999            0.678896    0.190809   \n",
              "2       0.539075       51.099998            0.600127    0.121316   \n",
              "3       0.521104       51.400002            0.495901    0.163571   \n",
              "4       0.520637       51.700001            0.530935    0.237588   \n",
              "\n",
              "   corruptionPreception  positiveAffect  negativeAffect  confInNatGov  \n",
              "0              0.881686        0.414297        0.258195      0.612072  \n",
              "1              0.850035        0.481421        0.237092      0.611545  \n",
              "2              0.706766        0.516907        0.275324      0.299357  \n",
              "3              0.731109        0.479835        0.267175      0.307386  \n",
              "4              0.775620        0.613513        0.267919      0.435440  "
            ],
            "text/html": [
              "\n",
              "  <div id=\"df-9706a69d-b29d-4977-846e-afcdecece912\">\n",
              "    <div class=\"colab-df-container\">\n",
              "      <div>\n",
              "<style scoped>\n",
              "    .dataframe tbody tr th:only-of-type {\n",
              "        vertical-align: middle;\n",
              "    }\n",
              "\n",
              "    .dataframe tbody tr th {\n",
              "        vertical-align: top;\n",
              "    }\n",
              "\n",
              "    .dataframe thead th {\n",
              "        text-align: right;\n",
              "    }\n",
              "</style>\n",
              "<table border=\"1\" class=\"dataframe\">\n",
              "  <thead>\n",
              "    <tr style=\"text-align: right;\">\n",
              "      <th></th>\n",
              "      <th>countryName</th>\n",
              "      <th>region</th>\n",
              "      <th>year</th>\n",
              "      <th>happinessScore</th>\n",
              "      <th>logGdpPerCapita</th>\n",
              "      <th>socialSupport</th>\n",
              "      <th>LifeExpAtBirth</th>\n",
              "      <th>lifeChoicesFreedom</th>\n",
              "      <th>generosity</th>\n",
              "      <th>corruptionPreception</th>\n",
              "      <th>positiveAffect</th>\n",
              "      <th>negativeAffect</th>\n",
              "      <th>confInNatGov</th>\n",
              "    </tr>\n",
              "  </thead>\n",
              "  <tbody>\n",
              "    <tr>\n",
              "      <th>0</th>\n",
              "      <td>Afghanistan</td>\n",
              "      <td>South Asia</td>\n",
              "      <td>2008</td>\n",
              "      <td>3.723590</td>\n",
              "      <td>7.350416</td>\n",
              "      <td>0.450662</td>\n",
              "      <td>50.500000</td>\n",
              "      <td>0.718114</td>\n",
              "      <td>0.167652</td>\n",
              "      <td>0.881686</td>\n",
              "      <td>0.414297</td>\n",
              "      <td>0.258195</td>\n",
              "      <td>0.612072</td>\n",
              "    </tr>\n",
              "    <tr>\n",
              "      <th>1</th>\n",
              "      <td>Afghanistan</td>\n",
              "      <td>South Asia</td>\n",
              "      <td>2009</td>\n",
              "      <td>4.401778</td>\n",
              "      <td>7.508646</td>\n",
              "      <td>0.552308</td>\n",
              "      <td>50.799999</td>\n",
              "      <td>0.678896</td>\n",
              "      <td>0.190809</td>\n",
              "      <td>0.850035</td>\n",
              "      <td>0.481421</td>\n",
              "      <td>0.237092</td>\n",
              "      <td>0.611545</td>\n",
              "    </tr>\n",
              "    <tr>\n",
              "      <th>2</th>\n",
              "      <td>Afghanistan</td>\n",
              "      <td>South Asia</td>\n",
              "      <td>2010</td>\n",
              "      <td>4.758381</td>\n",
              "      <td>7.613900</td>\n",
              "      <td>0.539075</td>\n",
              "      <td>51.099998</td>\n",
              "      <td>0.600127</td>\n",
              "      <td>0.121316</td>\n",
              "      <td>0.706766</td>\n",
              "      <td>0.516907</td>\n",
              "      <td>0.275324</td>\n",
              "      <td>0.299357</td>\n",
              "    </tr>\n",
              "    <tr>\n",
              "      <th>3</th>\n",
              "      <td>Afghanistan</td>\n",
              "      <td>South Asia</td>\n",
              "      <td>2011</td>\n",
              "      <td>3.831719</td>\n",
              "      <td>7.581259</td>\n",
              "      <td>0.521104</td>\n",
              "      <td>51.400002</td>\n",
              "      <td>0.495901</td>\n",
              "      <td>0.163571</td>\n",
              "      <td>0.731109</td>\n",
              "      <td>0.479835</td>\n",
              "      <td>0.267175</td>\n",
              "      <td>0.307386</td>\n",
              "    </tr>\n",
              "    <tr>\n",
              "      <th>4</th>\n",
              "      <td>Afghanistan</td>\n",
              "      <td>South Asia</td>\n",
              "      <td>2012</td>\n",
              "      <td>3.782938</td>\n",
              "      <td>7.660506</td>\n",
              "      <td>0.520637</td>\n",
              "      <td>51.700001</td>\n",
              "      <td>0.530935</td>\n",
              "      <td>0.237588</td>\n",
              "      <td>0.775620</td>\n",
              "      <td>0.613513</td>\n",
              "      <td>0.267919</td>\n",
              "      <td>0.435440</td>\n",
              "    </tr>\n",
              "  </tbody>\n",
              "</table>\n",
              "</div>\n",
              "      <button class=\"colab-df-convert\" onclick=\"convertToInteractive('df-9706a69d-b29d-4977-846e-afcdecece912')\"\n",
              "              title=\"Convert this dataframe to an interactive table.\"\n",
              "              style=\"display:none;\">\n",
              "        \n",
              "  <svg xmlns=\"http://www.w3.org/2000/svg\" height=\"24px\"viewBox=\"0 0 24 24\"\n",
              "       width=\"24px\">\n",
              "    <path d=\"M0 0h24v24H0V0z\" fill=\"none\"/>\n",
              "    <path d=\"M18.56 5.44l.94 2.06.94-2.06 2.06-.94-2.06-.94-.94-2.06-.94 2.06-2.06.94zm-11 1L8.5 8.5l.94-2.06 2.06-.94-2.06-.94L8.5 2.5l-.94 2.06-2.06.94zm10 10l.94 2.06.94-2.06 2.06-.94-2.06-.94-.94-2.06-.94 2.06-2.06.94z\"/><path d=\"M17.41 7.96l-1.37-1.37c-.4-.4-.92-.59-1.43-.59-.52 0-1.04.2-1.43.59L10.3 9.45l-7.72 7.72c-.78.78-.78 2.05 0 2.83L4 21.41c.39.39.9.59 1.41.59.51 0 1.02-.2 1.41-.59l7.78-7.78 2.81-2.81c.8-.78.8-2.07 0-2.86zM5.41 20L4 18.59l7.72-7.72 1.47 1.35L5.41 20z\"/>\n",
              "  </svg>\n",
              "      </button>\n",
              "      \n",
              "  <style>\n",
              "    .colab-df-container {\n",
              "      display:flex;\n",
              "      flex-wrap:wrap;\n",
              "      gap: 12px;\n",
              "    }\n",
              "\n",
              "    .colab-df-convert {\n",
              "      background-color: #E8F0FE;\n",
              "      border: none;\n",
              "      border-radius: 50%;\n",
              "      cursor: pointer;\n",
              "      display: none;\n",
              "      fill: #1967D2;\n",
              "      height: 32px;\n",
              "      padding: 0 0 0 0;\n",
              "      width: 32px;\n",
              "    }\n",
              "\n",
              "    .colab-df-convert:hover {\n",
              "      background-color: #E2EBFA;\n",
              "      box-shadow: 0px 1px 2px rgba(60, 64, 67, 0.3), 0px 1px 3px 1px rgba(60, 64, 67, 0.15);\n",
              "      fill: #174EA6;\n",
              "    }\n",
              "\n",
              "    [theme=dark] .colab-df-convert {\n",
              "      background-color: #3B4455;\n",
              "      fill: #D2E3FC;\n",
              "    }\n",
              "\n",
              "    [theme=dark] .colab-df-convert:hover {\n",
              "      background-color: #434B5C;\n",
              "      box-shadow: 0px 1px 3px 1px rgba(0, 0, 0, 0.15);\n",
              "      filter: drop-shadow(0px 1px 2px rgba(0, 0, 0, 0.3));\n",
              "      fill: #FFFFFF;\n",
              "    }\n",
              "  </style>\n",
              "\n",
              "      <script>\n",
              "        const buttonEl =\n",
              "          document.querySelector('#df-9706a69d-b29d-4977-846e-afcdecece912 button.colab-df-convert');\n",
              "        buttonEl.style.display =\n",
              "          google.colab.kernel.accessAllowed ? 'block' : 'none';\n",
              "\n",
              "        async function convertToInteractive(key) {\n",
              "          const element = document.querySelector('#df-9706a69d-b29d-4977-846e-afcdecece912');\n",
              "          const dataTable =\n",
              "            await google.colab.kernel.invokeFunction('convertToInteractive',\n",
              "                                                     [key], {});\n",
              "          if (!dataTable) return;\n",
              "\n",
              "          const docLinkHtml = 'Like what you see? Visit the ' +\n",
              "            '<a target=\"_blank\" href=https://colab.research.google.com/notebooks/data_table.ipynb>data table notebook</a>'\n",
              "            + ' to learn more about interactive tables.';\n",
              "          element.innerHTML = '';\n",
              "          dataTable['output_type'] = 'display_data';\n",
              "          await google.colab.output.renderOutput(dataTable, element);\n",
              "          const docLink = document.createElement('div');\n",
              "          docLink.innerHTML = docLinkHtml;\n",
              "          element.appendChild(docLink);\n",
              "        }\n",
              "      </script>\n",
              "    </div>\n",
              "  </div>\n",
              "  "
            ]
          },
          "metadata": {},
          "execution_count": 17
        }
      ]
    },
    {
      "cell_type": "code",
      "source": [
        "dfModified.isna().sum()"
      ],
      "metadata": {
        "colab": {
          "base_uri": "https://localhost:8080/"
        },
        "id": "2EdecSR2REo6",
        "outputId": "684b37cb-d406-4a86-b9eb-ce593bbe6353"
      },
      "id": "2EdecSR2REo6",
      "execution_count": null,
      "outputs": [
        {
          "output_type": "execute_result",
          "data": {
            "text/plain": [
              "countryName               0\n",
              "region                    0\n",
              "year                      0\n",
              "happinessScore            0\n",
              "logGdpPerCapita          20\n",
              "socialSupport            13\n",
              "LifeExpAtBirth           54\n",
              "lifeChoicesFreedom       33\n",
              "generosity               73\n",
              "corruptionPreception    116\n",
              "positiveAffect           24\n",
              "negativeAffect           16\n",
              "confInNatGov            361\n",
              "dtype: int64"
            ]
          },
          "metadata": {},
          "execution_count": 16
        }
      ]
    },
    {
      "cell_type": "markdown",
      "source": [
        "After imputing the missing values manually, we applied to isna,sum() function to confirm if all the missing values in the region column had been dealt with. As shown above, there are now zero missing values in the region column."
      ],
      "metadata": {
        "id": "xEDJjSVULX2Y"
      },
      "id": "xEDJjSVULX2Y"
    },
    {
      "cell_type": "markdown",
      "source": [],
      "metadata": {
        "id": "k_AP5ZGJLuWU"
      },
      "id": "k_AP5ZGJLuWU"
    }
  ],
  "metadata": {
    "kernelspec": {
      "display_name": "Python 3 (ipykernel)",
      "language": "python",
      "name": "python3"
    },
    "language_info": {
      "codemirror_mode": {
        "name": "ipython",
        "version": 3
      },
      "file_extension": ".py",
      "mimetype": "text/x-python",
      "name": "python",
      "nbconvert_exporter": "python",
      "pygments_lexer": "ipython3",
      "version": "3.9.7"
    },
    "colab": {
      "provenance": [],
      "include_colab_link": true
    }
  },
  "nbformat": 4,
  "nbformat_minor": 5
}